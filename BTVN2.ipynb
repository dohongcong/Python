{
 "cells": [
  {
   "cell_type": "code",
   "execution_count": 27,
   "id": "2f3bc19f-d8e3-46d6-9862-e73739fc1d36",
   "metadata": {},
   "outputs": [
    {
     "name": "stdout",
     "output_type": "stream",
     "text": [
      "Hello world\n",
      "Hello world\n",
      "Hello world\n",
      "Hello world\n",
      "Hello world\n",
      "Hello world\n",
      "Hello world\n",
      "Hello world\n",
      "Hello world\n",
      "Hello world\n"
     ]
    }
   ],
   "source": [
    "for a in range(10):\n",
    "    print(\"Hello world\")"
   ]
  },
  {
   "cell_type": "code",
   "execution_count": 21,
   "id": "36de5e08-fa69-4fdb-8485-f97480860ddc",
   "metadata": {},
   "outputs": [
    {
     "name": "stdin",
     "output_type": "stream",
     "text": [
      "nhập số lần :  2\n"
     ]
    },
    {
     "name": "stdout",
     "output_type": "stream",
     "text": [
      "Hello \n",
      "Hello \n"
     ]
    }
   ],
   "source": [
    "a = int(input(\"nhập số lần : \"))\n",
    "for i in range(a):\n",
    "    print(\"Hello \")"
   ]
  },
  {
   "cell_type": "code",
   "execution_count": 43,
   "id": "76b821f1-bc51-48e7-953a-02239a18b4f0",
   "metadata": {},
   "outputs": [
    {
     "name": "stdin",
     "output_type": "stream",
     "text": [
      "nhập số cho a :  9\n"
     ]
    },
    {
     "name": "stdout",
     "output_type": "stream",
     "text": [
      "a là số lẻ\n"
     ]
    }
   ],
   "source": [
    "a = int(input(\"nhập số cho a : \"))\n",
    "if a % 2 == 0 :\n",
    "    print(\"a là số chẵn\")\n",
    "else :\n",
    "    print(\"a là số lẻ\")"
   ]
  },
  {
   "cell_type": "code",
   "execution_count": 61,
   "id": "db352363-a1c9-49f9-b40e-ddeb8d5ac436",
   "metadata": {},
   "outputs": [
    {
     "name": "stdout",
     "output_type": "stream",
     "text": [
      "Scooby\n",
      "Scooby\n",
      "Scooby\n",
      "Scooby\n",
      "Scooby\n",
      "Scooby\n",
      "Scooby\n",
      "Scooby\n",
      "Scooby\n",
      "Scooby\n"
     ]
    }
   ],
   "source": [
    "cnt = 0\n",
    "while(cnt < 10):\n",
    "    print(\"Scooby\")\n",
    "    cnt = cnt + 1"
   ]
  },
  {
   "cell_type": "code",
   "execution_count": null,
   "id": "1541cc5f-fee6-4184-b77e-fa3fa75d289d",
   "metadata": {},
   "outputs": [],
   "source": []
  }
 ],
 "metadata": {
  "kernelspec": {
   "display_name": "Python [conda env:base] *",
   "language": "python",
   "name": "conda-base-py"
  },
  "language_info": {
   "codemirror_mode": {
    "name": "ipython",
    "version": 3
   },
   "file_extension": ".py",
   "mimetype": "text/x-python",
   "name": "python",
   "nbconvert_exporter": "python",
   "pygments_lexer": "ipython3",
   "version": "3.12.7"
  }
 },
 "nbformat": 4,
 "nbformat_minor": 5
}
